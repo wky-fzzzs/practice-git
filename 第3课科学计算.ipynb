{
 "cells": [
  {
   "cell_type": "code",
   "execution_count": null,
   "id": "f60cf164-d0b2-4ec1-ae08-de7c92f6b872",
   "metadata": {},
   "outputs": [],
   "source": [
    "# 数分第3课作业"
   ]
  },
  {
   "cell_type": "code",
   "execution_count": 1,
   "id": "5f3eedc5-06e8-4b15-9115-36bebff57ede",
   "metadata": {},
   "outputs": [
    {
     "data": {
      "text/plain": [
       "array([[ 1,  2,  3,  4,  5],\n",
       "       [ 6,  7,  8,  9, 10],\n",
       "       [11, 12, 13, 14, 15],\n",
       "       [16, 17, 18, 19, 20]])"
      ]
     },
     "execution_count": 1,
     "metadata": {},
     "output_type": "execute_result"
    }
   ],
   "source": [
    "import numpy as np\n",
    "a = np.arange(1,21).reshape(4,5)\n",
    "a"
   ]
  },
  {
   "cell_type": "code",
   "execution_count": 2,
   "id": "a95f8df0-673b-43c2-bc42-bff41abd5a0d",
   "metadata": {},
   "outputs": [
    {
     "name": "stdout",
     "output_type": "stream",
     "text": [
      "210\n"
     ]
    }
   ],
   "source": [
    "# sum 求和\n",
    "print(np.sum(a))"
   ]
  },
  {
   "cell_type": "code",
   "execution_count": 3,
   "id": "801c057f-1f25-4af6-a8e2-555e4226506b",
   "metadata": {},
   "outputs": [
    {
     "name": "stdout",
     "output_type": "stream",
     "text": [
      "40\n"
     ]
    }
   ],
   "source": [
    "print(np.sum(a[1,:])) #切片求和"
   ]
  },
  {
   "cell_type": "code",
   "execution_count": 4,
   "id": "fa6d978d-4356-4441-8ddd-cb80f0424e0e",
   "metadata": {},
   "outputs": [
    {
     "name": "stdout",
     "output_type": "stream",
     "text": [
      "46\n"
     ]
    }
   ],
   "source": [
    "print(np.sum(a[:,3]))"
   ]
  },
  {
   "cell_type": "code",
   "execution_count": 5,
   "id": "feb85e6c-c9fb-4727-8b3f-2114c8ecd993",
   "metadata": {},
   "outputs": [
    {
     "name": "stdout",
     "output_type": "stream",
     "text": [
      "10.5\n",
      "10.5\n"
     ]
    }
   ],
   "source": [
    "# average 平均水平 一般水准\n",
    "# mean 平均数 均值\n",
    "print(np.average(a))\n",
    "print(np.mean(a))"
   ]
  },
  {
   "cell_type": "code",
   "execution_count": 6,
   "id": "9ecda008-f6fb-42fe-8114-6767a642edb0",
   "metadata": {},
   "outputs": [
    {
     "name": "stdout",
     "output_type": "stream",
     "text": [
      "2432902008176640000\n"
     ]
    }
   ],
   "source": [
    "print(np.prod(a))  # 乘积"
   ]
  },
  {
   "cell_type": "code",
   "execution_count": 7,
   "id": "339f283a-3892-426d-92db-8eb8b4781429",
   "metadata": {},
   "outputs": [
    {
     "name": "stdout",
     "output_type": "stream",
     "text": [
      "[  1   3   6  10  15  21  28  36  45  55  66  78  91 105 120 136 153 171\n",
      " 190 210]\n"
     ]
    }
   ],
   "source": [
    "print(np.cumsum(a)) # 累积和"
   ]
  },
  {
   "cell_type": "code",
   "execution_count": 8,
   "id": "338b76d4-bded-4b13-afab-7c21f948de4d",
   "metadata": {},
   "outputs": [
    {
     "name": "stdout",
     "output_type": "stream",
     "text": [
      "[                  1                   2                   6\n",
      "                  24                 120                 720\n",
      "                5040               40320              362880\n",
      "             3628800            39916800           479001600\n",
      "          6227020800         87178291200       1307674368000\n",
      "      20922789888000     355687428096000    6402373705728000\n",
      "  121645100408832000 2432902008176640000]\n"
     ]
    }
   ],
   "source": [
    "print(np.cumprod(a)) # 累积乘积"
   ]
  },
  {
   "cell_type": "code",
   "execution_count": 9,
   "id": "2e4aaa15-aa97-449d-8376-dddc4b2d5fb3",
   "metadata": {},
   "outputs": [
    {
     "name": "stdout",
     "output_type": "stream",
     "text": [
      "10.5\n"
     ]
    }
   ],
   "source": [
    "print(np.median(a)) # 中位数"
   ]
  },
  {
   "cell_type": "code",
   "execution_count": 10,
   "id": "be1be0a4-b0c8-4334-9dcb-ffabec61a4e2",
   "metadata": {},
   "outputs": [
    {
     "name": "stdout",
     "output_type": "stream",
     "text": [
      "33.25\n"
     ]
    }
   ],
   "source": [
    "print(np.var(a)) # 方差 先计算平均值 10.5 ((1-10.5)**2 ...(20-10.5)**2) 再算平方"
   ]
  },
  {
   "cell_type": "code",
   "execution_count": 11,
   "id": "8788ba33-ac19-4967-b377-bec62f003cfc",
   "metadata": {},
   "outputs": [
    {
     "name": "stdout",
     "output_type": "stream",
     "text": [
      "5.766281297335398\n"
     ]
    }
   ],
   "source": [
    "print(np.std(a)) # 标准差 方差的平方根"
   ]
  },
  {
   "cell_type": "code",
   "execution_count": 13,
   "id": "cf46df1e-08f3-4795-a94f-fe5357d90160",
   "metadata": {},
   "outputs": [
    {
     "name": "stdout",
     "output_type": "stream",
     "text": [
      "5.766281297335398\n"
     ]
    }
   ],
   "source": [
    "print(np.sqrt(33.25)) # sqrt 平方根"
   ]
  },
  {
   "cell_type": "code",
   "execution_count": 16,
   "id": "fd94de6d-fddc-4994-8f5e-7c5cf6559642",
   "metadata": {},
   "outputs": [
    {
     "name": "stdout",
     "output_type": "stream",
     "text": [
      "5.5\n"
     ]
    }
   ],
   "source": [
    "data = np.array([1,5,8,9,1,23,4,5,6,87])\n",
    "ton = np.percentile(data,50) # 百分位数\n",
    "print(ton)\n",
    "# print(np.quantile(data,50)) # 分位数 与百分位传参不同！"
   ]
  },
  {
   "cell_type": "code",
   "execution_count": 25,
   "id": "4baf8fca-09c4-4149-9bc8-d0e6f654aa2c",
   "metadata": {},
   "outputs": [
    {
     "name": "stdout",
     "output_type": "stream",
     "text": [
      "7.75\n"
     ]
    }
   ],
   "source": [
    "data = np.array([1,2,3,4,5,6,7,8,9,10])\n",
    "ton = np.quantile(data,.75) # 百分位数 注意第二个参数小于[1,1]\n",
    "print(ton)"
   ]
  },
  {
   "cell_type": "code",
   "execution_count": 32,
   "id": "c40e1d6c-8feb-4f68-b0ed-e8831c18fbe5",
   "metadata": {},
   "outputs": [
    {
     "name": "stdout",
     "output_type": "stream",
     "text": [
      "0.5714025946899135\n"
     ]
    }
   ],
   "source": [
    "import random\n",
    "random.seed(10) # 设置随机数生成器的种子的函数 如果不指定种 seed会默认使用系统时间戳\n",
    "print(random.random()) # 生成一个随机数"
   ]
  },
  {
   "cell_type": "code",
   "execution_count": 33,
   "id": "4f08daaa-7ced-4e8e-b7ac-2ad81ecf4451",
   "metadata": {},
   "outputs": [
    {
     "name": "stdout",
     "output_type": "stream",
     "text": [
      "[0.52894873 0.14447948 0.35051788 0.76913413 0.60296366 0.50304101\n",
      " 0.01217467 0.12706952 0.78034385 0.32264521 0.09795078 0.98717326\n",
      " 0.60329322 0.03272994 0.32222782 0.26515522 0.16162479 0.34384131\n",
      " 0.20899186 0.88142655]\n"
     ]
    }
   ],
   "source": [
    "print(np.random.rand(20)) # 参数：随机数个数 [0,1) 0到1 不包含1的数 左闭右开"
   ]
  },
  {
   "cell_type": "code",
   "execution_count": 34,
   "id": "839aef14-cefe-4669-8838-92b83809a882",
   "metadata": {},
   "outputs": [
    {
     "name": "stdout",
     "output_type": "stream",
     "text": [
      "1\n"
     ]
    }
   ],
   "source": [
    "a = np.random.randint(3) # 生成范围内的随机整数\n",
    "print(a)"
   ]
  },
  {
   "cell_type": "code",
   "execution_count": 37,
   "id": "a6dc13c4-e59b-469c-bfbd-b2197e7915db",
   "metadata": {},
   "outputs": [
    {
     "name": "stdout",
     "output_type": "stream",
     "text": [
      "[2, 1, 2, 1, 2, 1, 2, 1, 0, 2, 1, 1, 2, 0, 2, 1, 2, 2, 0, 0, 1, 2, 2, 0, 0, 1, 2, 0, 1, 0]\n"
     ]
    }
   ],
   "source": [
    "to = []\n",
    "for i in range(30):\n",
    "    a = np.random.randint(3) # 0，1，2\n",
    "    to.append(a)\n",
    "print(to)"
   ]
  },
  {
   "cell_type": "code",
   "execution_count": 38,
   "id": "6b384727-c178-4e89-b176-dffe663749e7",
   "metadata": {},
   "outputs": [
    {
     "data": {
      "text/plain": [
       "array([[4, 1, 2],\n",
       "       [4, 1, 1]], dtype=int32)"
      ]
     },
     "execution_count": 38,
     "metadata": {},
     "output_type": "execute_result"
    }
   ],
   "source": [
    "np.random.randint(1,5,size=(2,3))"
   ]
  },
  {
   "cell_type": "code",
   "execution_count": 41,
   "id": "c3f396da-3a53-4a77-bde1-cfd001750112",
   "metadata": {},
   "outputs": [
    {
     "data": {
      "text/plain": [
       "array([15, 20, 34,  8, 36, 12, 19, 74,  7, 64])"
      ]
     },
     "execution_count": 41,
     "metadata": {},
     "output_type": "execute_result"
    }
   ],
   "source": [
    "b = np.random.random(10)*100\n",
    "b\n",
    "b.astype(int) # 转换为int整数"
   ]
  },
  {
   "cell_type": "code",
   "execution_count": 45,
   "id": "ea9081f8-e1dd-4469-a70c-ce13c1ba6797",
   "metadata": {},
   "outputs": [
    {
     "data": {
      "text/plain": [
       "array([[-0.68642842, -0.11753204, -1.14308455,  0.52859064],\n",
       "       [ 1.33926054,  1.08331388, -1.84128427, -0.17717089],\n",
       "       [ 0.06038068,  0.20917902,  1.36592032, -0.32676248]])"
      ]
     },
     "execution_count": 45,
     "metadata": {},
     "output_type": "execute_result"
    }
   ],
   "source": [
    "a = np.random.randn(3,4)  # 生成标准正态分布（高斯分布）的随机数组 标准差略为1 均值为略0\n",
    "a"
   ]
  },
  {
   "cell_type": "code",
   "execution_count": 47,
   "id": "8038e11e-ecec-49ec-8183-cf3e729dd23a",
   "metadata": {},
   "outputs": [
    {
     "name": "stdout",
     "output_type": "stream",
     "text": [
      "0.9341950699695638\n",
      "0.024531869844104593\n"
     ]
    }
   ],
   "source": [
    "print(np.std(a))\n",
    "print(np.mean(a))"
   ]
  },
  {
   "cell_type": "code",
   "execution_count": 50,
   "id": "db59974c-e3c0-43c5-8ef4-f822c0628984",
   "metadata": {},
   "outputs": [
    {
     "name": "stdout",
     "output_type": "stream",
     "text": [
      "[[2 1 0]\n",
      " [3 4 1]]\n"
     ]
    }
   ],
   "source": [
    "a = np.random.choice(5,(2,3)) # 参数1 可以是列表 也可以是字符（列表）\n",
    "print(a) # range(5) 中拿随机数 生成2行3列的二维数组"
   ]
  },
  {
   "cell_type": "code",
   "execution_count": 51,
   "id": "e6b6d9f1-85ce-4662-9b04-c78547e430ef",
   "metadata": {},
   "outputs": [
    {
     "name": "stdout",
     "output_type": "stream",
     "text": [
      "[['c' 'a' 'c']\n",
      " ['b' 'c' 'd']]\n"
     ]
    }
   ],
   "source": [
    "a = np.random.choice(['a','b','c','d','e'],(2,3)) # 参数1 可以是列表 也可以是字符（列表）\n",
    "print(a) # range(5) 中拿随机数 生成2行3列的二维数组"
   ]
  },
  {
   "cell_type": "code",
   "execution_count": 52,
   "id": "dacb5727-f788-4435-ae0f-fce10905501d",
   "metadata": {},
   "outputs": [
    {
     "data": {
      "text/plain": [
       "array([0, 1, 2, 3, 4, 5, 6, 7, 8, 9])"
      ]
     },
     "execution_count": 52,
     "metadata": {},
     "output_type": "execute_result"
    }
   ],
   "source": [
    "a = np.arange(10)\n",
    "a"
   ]
  },
  {
   "cell_type": "code",
   "execution_count": 55,
   "id": "fb441e37-6ce1-4808-93e9-eac94174d7c3",
   "metadata": {},
   "outputs": [
    {
     "name": "stdout",
     "output_type": "stream",
     "text": [
      "[1 5 6 9 0 3 7 4 8 2]\n"
     ]
    }
   ],
   "source": [
    "np.random.shuffle(a) # 直接在原数据上打乱数组的顺序\n",
    "print(a)"
   ]
  },
  {
   "cell_type": "code",
   "execution_count": 61,
   "id": "e7410ef3-b6cd-41f0-907a-abb3381f9e81",
   "metadata": {},
   "outputs": [
    {
     "data": {
      "text/plain": [
       "array([[ 0,  1,  2,  3,  4],\n",
       "       [ 5,  6,  7,  8,  9],\n",
       "       [10, 11, 12, 13, 14],\n",
       "       [15, 16, 17, 18, 19]])"
      ]
     },
     "execution_count": 61,
     "metadata": {},
     "output_type": "execute_result"
    }
   ],
   "source": [
    "b = np.arange(20).reshape(4,5)\n",
    "b"
   ]
  },
  {
   "cell_type": "code",
   "execution_count": 63,
   "id": "65532211-d545-4648-869c-f24576c8f5e1",
   "metadata": {},
   "outputs": [
    {
     "name": "stdout",
     "output_type": "stream",
     "text": [
      "None\n"
     ]
    }
   ],
   "source": [
    "c =np.random.shuffle(b)  # 多维数组打乱？？？\n",
    "print(c)"
   ]
  },
  {
   "cell_type": "code",
   "execution_count": 66,
   "id": "d3188eb5-0c31-4af3-96b4-44213ae348d5",
   "metadata": {},
   "outputs": [
    {
     "data": {
      "text/plain": [
       "array([4, 5, 8, 2, 3, 9, 0, 6, 1, 7], dtype=int32)"
      ]
     },
     "execution_count": 66,
     "metadata": {},
     "output_type": "execute_result"
    }
   ],
   "source": [
    "c = np.random.permutation(10) # 返回一个数组的随机排列\n",
    "c"
   ]
  },
  {
   "cell_type": "code",
   "execution_count": 68,
   "id": "c71e0724-eeec-4d6b-b4fc-3a6b672bcd70",
   "metadata": {},
   "outputs": [
    {
     "data": {
      "text/plain": [
       "array([1, 2, 5, 7, 3, 4, 6])"
      ]
     },
     "execution_count": 68,
     "metadata": {},
     "output_type": "execute_result"
    }
   ],
   "source": [
    "c = np.random.permutation(np.array([1,2,3,4,5,6,7])) # 返回一个数组的随机排列\n",
    "c"
   ]
  },
  {
   "cell_type": "code",
   "execution_count": null,
   "id": "5d9ef5c9-ab1d-4caf-a388-a3c2a1ad4b01",
   "metadata": {},
   "outputs": [],
   "source": []
  }
 ],
 "metadata": {
  "kernelspec": {
   "display_name": "Python 3 (ipykernel)",
   "language": "python",
   "name": "python3"
  },
  "language_info": {
   "codemirror_mode": {
    "name": "ipython",
    "version": 3
   },
   "file_extension": ".py",
   "mimetype": "text/x-python",
   "name": "python",
   "nbconvert_exporter": "python",
   "pygments_lexer": "ipython3",
   "version": "3.12.3"
  }
 },
 "nbformat": 4,
 "nbformat_minor": 5
}
